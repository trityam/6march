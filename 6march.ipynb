{
 "cells": [
  {
   "cell_type": "code",
   "execution_count": null,
   "id": "2e96ea26-24b4-44ff-82d4-968cccb721f0",
   "metadata": {},
   "outputs": [],
   "source": [
    "#!)Ans:___\n",
    "\"\"\"statistics is the study of the collection ,analysis,interpretation,presentaion and organization of data\"\"\""
   ]
  },
  {
   "cell_type": "code",
   "execution_count": null,
   "id": "5fe38401-885c-49c3-af1f-61a67c5cb11d",
   "metadata": {},
   "outputs": [],
   "source": [
    "#2)Ans:___\n",
    "\n",
    "\"\"\" 1)Discriptive Statistics:-the data is summarised and explained in discriptive statistics.the summarisation \n",
    "is done from a population sample utilising several factors such as mean and standard diviation.\n",
    "\n",
    "2)Inferential statistics:- in inferential statistics we ttempt to interpret the meaning of discriptive statistics\n",
    "inferential statistics are used to test hypotheses and study corelation between variables,and they cal also be\n",
    "used to predict population sizes.inferential statistics are used to derive conclusion and  inference from sample,\n",
    "i.e. to ceate accurate generalisations.\"\"\""
   ]
  },
  {
   "cell_type": "code",
   "execution_count": null,
   "id": "6f97a7d2-5e5f-43e1-8d26-9a522e396d95",
   "metadata": {},
   "outputs": [],
   "source": [
    "#3)Ans:___\n",
    "\n",
    "\"\"\" 1)Nominal Data:-is one of the type of qualitative information which helps to label the variables without \n",
    "provideing the numerical value.it can not be ordered and measured.but sometimes ,the data can be qualtative and \n",
    "quantitative.\n",
    "ex:-letteres,symbol,gender,words\n",
    "\n",
    "2)Ordinal data:- is a type of data that follow a natural order.\n",
    "ex:- mostly found in survey,economics,questionnaries\n",
    "\n",
    "3)Discrete Data:- can take only discrete values. Discrete information contains only a finite number of possible\n",
    "values. Those values cannot be subdivided meaningfully. Here, things can be counted in whole numbers.\n",
    "Example: Number of students in the class\n",
    "\n",
    "4)Continuous Data:-Continuous data is data that can be calculated. It has an infinite number of probable values\n",
    "that can be selected within a given specific range.\n",
    "Example: Temperature range"
   ]
  },
  {
   "cell_type": "code",
   "execution_count": null,
   "id": "6836d176-d7a2-4dc3-8730-2f25ee7e304a",
   "metadata": {},
   "outputs": [],
   "source": [
    "#4)Ans:_____\n",
    "\"\"\"\n",
    "(i) Grading in exam: A+, A, B+, B, C+, C, D, E == Qualitative Data\n",
    "(ii) Colour of mangoes: yellow, green, orange, red == Qualitative data\n",
    "(iii) Height data of a class: [178.9, 179, 179.5, 176, 177.2, 178.3, 175.8,...] == quantitaive data\n",
    "(iv) Number of mangoes exported by a farm: [500, 600, 478, 672, ...] == quantitative data"
   ]
  },
  {
   "cell_type": "code",
   "execution_count": null,
   "id": "d9a17d6c-02fb-410c-a222-13c189424625",
   "metadata": {},
   "outputs": [],
   "source": [
    "#5)ans:__\n",
    "\"\"\"\n",
    "1)Nominal level\t\n",
    "You can categorize your data by labelling them in mutually exclusive groups, but there is no order between the \n",
    "categories.\t\n",
    "ex:-\n",
    "City of birth\n",
    "Gender\n",
    "Ethnicity\n",
    "Car brands\n",
    "Marital status\n",
    "\n",
    "2)Ordinal level\t\n",
    "You can categorize and rank your data in an order, but you cannot say anything about the intervals between the\n",
    "rankings.Although you can rank the top 5 Olympic medallists, this scale does not tell you how close or far apart\n",
    "they are in number of wins.\n",
    "ex:-\n",
    "Top 5 Olympic medallists\n",
    "Language ability (e.g., beginner, intermediate, fluent)\n",
    "Likert-type questions  (e.g., very dissatisfied to very satisfied)\n",
    "\n",
    "3)Interval level\t\n",
    "You can categorize, rank, and infer equal intervals between neighboring data points, but there is no true zero\n",
    "point.\n",
    "ex:--\n",
    "Test scores (e.g., IQ or exams)\n",
    "Personality inventories\n",
    "Temperature in Fahrenheit or Celsius\n",
    "\n",
    "4)Ratio level\t\n",
    "You can categorize, rank, and infer equal intervals between neighboring data points, and there is a true zero \n",
    "point.\n",
    "A true zero means there is an absence of the variable of interest. In ratio scales, zero does mean an absolute \n",
    "lack of the variable.\n",
    "\n",
    "For example, in the Kelvin temperature scale, there are no negative degrees of temperature – zero means an \n",
    "absolute lack of thermal energy.\n",
    "\n",
    "Height\n",
    "Age\n",
    "Weight\n",
    "Temperature in Kelvin\n",
    "\"\"\""
   ]
  },
  {
   "cell_type": "code",
   "execution_count": null,
   "id": "dbdcd18c-1156-4ad6-8d13-db384780ef2c",
   "metadata": {},
   "outputs": [],
   "source": [
    "#6)Ans:__\n",
    "\"\"\"\n",
    "First, knowing the level of measurement helps you decide how to interpret the data from that variable. When you\n",
    "know that a measure is nominal (like the one just described), then you know that the numerical values are just\n",
    "short codes for the longer names. Second, knowing the level of measurement helps you decide what statistical \n",
    "analysis is appropriate on the values that were assigned. If a measure is nominal, then you know that you would\n",
    "never average the data values or do a t-test on the data.\n",
    "\"\"\""
   ]
  },
  {
   "cell_type": "code",
   "execution_count": null,
   "id": "455ec159-bd77-442b-91e3-ddce75aceec1",
   "metadata": {},
   "outputs": [],
   "source": [
    "#7)Ans:__\n",
    "\"\"\"Ordinal data is data that can be ranked or ordered. Examples include data taken from a poll or survey.\n",
    "Nominal data is data that can be made to fit various categories. Examples include whether an animal is a mammal,\n",
    "fish, reptile, amphibian, or bird.\"\"\""
   ]
  },
  {
   "cell_type": "code",
   "execution_count": null,
   "id": "82aec2b4-550e-458f-944e-1441c91a8b9a",
   "metadata": {},
   "outputs": [],
   "source": [
    "#8)Ans:___\n",
    "\"\"\"Histogram Plot\"\"\""
   ]
  },
  {
   "cell_type": "code",
   "execution_count": null,
   "id": "8bd1dd43-5d42-401f-ad42-0b000ffcb730",
   "metadata": {},
   "outputs": [],
   "source": [
    "#9)Ans:__\n",
    "\"\"\"\n",
    "Descriptive statistics:\n",
    "1)Describe the features of populations and/or samples\n",
    "2)Organize and present data in a purely factual way\n",
    "3)Present final results visually, using tables, charts, or graphs\n",
    "4)Draw conclusions based on known data\n",
    "5)Use measures like central tendency, distribution, and variance\n",
    "\n",
    "Inferential statistics:\n",
    "1)Use samples to make generalizations about larger populations\n",
    "2)Help us to make estimates and predict future outcomes\n",
    "3)Present final results in the form of probabilities\n",
    "4)Draw conclusions that go beyond the available data\n",
    "5)Use techniques like hypothesis testing, confidence intervals, and regression and correlation analysis.\n",
    "\"\"\""
   ]
  },
  {
   "cell_type": "code",
   "execution_count": null,
   "id": "9464b16e-90aa-47a9-9e05-d75cf1b54035",
   "metadata": {},
   "outputs": [],
   "source": [
    "#10)Ans:__\n",
    "\"\"\"\n",
    "\n",
    "\n",
    "The four measures of central tendency are mean, median, mode and the midrange. Here, mid-range or mid-extreme of a set of statistical data values is the arithmetic mean of the maximum and minimum values in a data set."
   ]
  }
 ],
 "metadata": {
  "kernelspec": {
   "display_name": "Python 3 (ipykernel)",
   "language": "python",
   "name": "python3"
  },
  "language_info": {
   "codemirror_mode": {
    "name": "ipython",
    "version": 3
   },
   "file_extension": ".py",
   "mimetype": "text/x-python",
   "name": "python",
   "nbconvert_exporter": "python",
   "pygments_lexer": "ipython3",
   "version": "3.10.8"
  }
 },
 "nbformat": 4,
 "nbformat_minor": 5
}
